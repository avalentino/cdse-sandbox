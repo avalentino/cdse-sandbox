{
 "cells": [
  {
   "cell_type": "markdown",
   "id": "46cb1202",
   "metadata": {},
   "source": [
    "## Data download"
   ]
  },
  {
   "cell_type": "code",
   "execution_count": 1,
   "id": "3ec3f18f",
   "metadata": {},
   "outputs": [],
   "source": [
    "import pathlib"
   ]
  },
  {
   "cell_type": "code",
   "execution_count": 2,
   "id": "80b6d9e3",
   "metadata": {},
   "outputs": [],
   "source": [
    "import sys\n",
    "\n",
    "sys.path.append(\"../..\")"
   ]
  },
  {
   "cell_type": "markdown",
   "id": "fc38c227",
   "metadata": {},
   "source": [
    "### Constants"
   ]
  },
  {
   "cell_type": "code",
   "execution_count": 3,
   "id": "290b9a36",
   "metadata": {},
   "outputs": [],
   "source": [
    "s3path = \"s3://eodata/CCM/COP-DEM_GLO-90-DGED/SAR_DGE_90_A407/2011/02/27/DEM1_SAR_DGE_90_20110227T213349_20121120T214521_ADS_000000_3612_d850f16f\"\n",
    "md5_checksum = \"294d943087a1c7a6bbccffefd2329cd7\""
   ]
  },
  {
   "cell_type": "markdown",
   "id": "e678277e",
   "metadata": {},
   "source": [
    "### Credentials"
   ]
  },
  {
   "cell_type": "code",
   "execution_count": 4,
   "id": "ea1dc958",
   "metadata": {},
   "outputs": [],
   "source": [
    "import cdseutils.cdseauth"
   ]
  },
  {
   "cell_type": "code",
   "execution_count": 5,
   "id": "c27136d0",
   "metadata": {},
   "outputs": [],
   "source": [
    "token = cdseutils.cdseauth.CdseToken()\n",
    "credentials = cdseutils.cdseauth.CdseS3Credentials(token)"
   ]
  },
  {
   "cell_type": "markdown",
   "id": "599761ad",
   "metadata": {},
   "source": [
    "### Download with s3fs"
   ]
  },
  {
   "cell_type": "code",
   "execution_count": 6,
   "id": "1d129d89",
   "metadata": {},
   "outputs": [],
   "source": [
    "import s3fs\n",
    "import fsspec\n",
    "from tqdm.auto import tqdm"
   ]
  },
  {
   "cell_type": "code",
   "execution_count": 7,
   "id": "f0f5e770",
   "metadata": {},
   "outputs": [],
   "source": [
    "CDSE_S3_ENDPOINT_URL = \"https://eodata.dataspace.copernicus.eu/\""
   ]
  },
  {
   "cell_type": "code",
   "execution_count": 8,
   "id": "68a70b9d",
   "metadata": {},
   "outputs": [],
   "source": [
    "fs = s3fs.S3FileSystem(\n",
    "    endpoint_url=CDSE_S3_ENDPOINT_URL,\n",
    "    key=credentials.access_id,\n",
    "    secret=credentials.secret,\n",
    ")"
   ]
  },
  {
   "cell_type": "code",
   "execution_count": 9,
   "id": "15230ad6",
   "metadata": {},
   "outputs": [
    {
     "data": {
      "application/vnd.jupyter.widget-view+json": {
       "model_id": "d10deb4e7304452aa8a11ac3e853ce74",
       "version_major": 2,
       "version_minor": 0
      },
      "text/plain": [
       "DEM1_SAR_DGE_90_20110227T213349_20121120T214521_ADS_000000_3612_d850f16f:   0%|          | 0/27 [00:00<?, ?it/…"
      ]
     },
     "metadata": {},
     "output_type": "display_data"
    }
   ],
   "source": [
    "outdir = \"./\"\n",
    "tile_name = pathlib.Path(s3path).stem\n",
    "\n",
    "fs.download(\n",
    "    s3path,\n",
    "    outdir,\n",
    "    recursive=True,\n",
    "    callback=fsspec.callbacks.TqdmCallback(\n",
    "        tqdm_cls=tqdm, tqdm_kwargs={\"desc\": tile_name}\n",
    "    ),\n",
    ");"
   ]
  },
  {
   "cell_type": "code",
   "execution_count": 10,
   "id": "17f4b537",
   "metadata": {},
   "outputs": [
    {
     "name": "stdout",
     "output_type": "stream",
     "text": [
      "\u001b[01;34mDEM1_SAR_DGE_90_20110227T213349_20121120T214521_ADS_000000_3612_d850f16f\u001b[0m\n",
      "├── \u001b[01;34mCopernicus_DSM_30_S33_00_E116_00\u001b[0m\n",
      "│   ├── \u001b[01;34mAUXFILES\u001b[0m\n",
      "│   │   ├── \u001b[00mCopernicus_DSM_30_S33_00_E116_00_ACM.kml\u001b[0m\n",
      "│   │   ├── \u001b[01;35mCopernicus_DSM_30_S33_00_E116_00_EDM.tif\u001b[0m\n",
      "│   │   ├── \u001b[01;35mCopernicus_DSM_30_S33_00_E116_00_FLM.tif\u001b[0m\n",
      "│   │   ├── \u001b[01;35mCopernicus_DSM_30_S33_00_E116_00_HEM.tif\u001b[0m\n",
      "│   │   └── \u001b[01;35mCopernicus_DSM_30_S33_00_E116_00_WBM.tif\u001b[0m\n",
      "│   ├── \u001b[00mCopernicus_DSM_30_S33_00_E116_00.xml\u001b[0m\n",
      "│   ├── \u001b[01;34mDEM\u001b[0m\n",
      "│   │   └── \u001b[01;35mCopernicus_DSM_30_S33_00_E116_00_DEM.tif\u001b[0m\n",
      "│   ├── \u001b[01;34mINFO\u001b[0m\n",
      "│   │   └── \u001b[00meula_F.pdf\u001b[0m\n",
      "│   └── \u001b[01;34mPREVIEW\u001b[0m\n",
      "│       ├── \u001b[01;35mCopernicus_DSM_30_S33_00_E116_00_DEM_ABS_QL.tif\u001b[0m\n",
      "│       ├── \u001b[01;35mCopernicus_DSM_30_S33_00_E116_00_DEM_QL.tif\u001b[0m\n",
      "│       ├── \u001b[01;35mCopernicus_DSM_30_S33_00_E116_00_EDM_QL.tif\u001b[0m\n",
      "│       ├── \u001b[01;35mCopernicus_DSM_30_S33_00_E116_00_FLM_QL.tif\u001b[0m\n",
      "│       ├── \u001b[01;35mCopernicus_DSM_30_S33_00_E116_00_HEM_QL.tif\u001b[0m\n",
      "│       ├── \u001b[00mCopernicus_DSM_30_S33_00_E116_00_QL.kml\u001b[0m\n",
      "│       ├── \u001b[00mCopernicus_DSM_30_S33_00_E116_00_SRC.kml\u001b[0m\n",
      "│       └── \u001b[01;35mCopernicus_DSM_30_S33_00_E116_00_WBM_QL.tif\u001b[0m\n",
      "├── \u001b[00mGSC_CR_ESA_COP-DEM_GLO-90-DGED_20230106_151025.xml\u001b[0m\n",
      "├── \u001b[00mGSC_CR_ESA_COP-DEM_GLO-90-DGED_20230106_151026.xml\u001b[0m\n",
      "├── \u001b[00mGSC_CR_ESA_COP-DEM_GLO-90-DGED_20230106_151027.xml\u001b[0m\n",
      "├── \u001b[00mGSC_CR_ESA_COP-DEM_GLO-90-DGED_20230106_151028.xml\u001b[0m\n",
      "└── \u001b[00mINSPIRE.xml\u001b[0m\n",
      "\n",
      "6 directories, 21 files\n"
     ]
    }
   ],
   "source": [
    "!tree {tile_name}"
   ]
  },
  {
   "cell_type": "markdown",
   "id": "9ed35d3a",
   "metadata": {},
   "source": [
    "### Checksum computation"
   ]
  },
  {
   "cell_type": "code",
   "execution_count": 11,
   "id": "e21fcd13",
   "metadata": {},
   "outputs": [
    {
     "name": "stdout",
     "output_type": "stream",
     "text": [
      "md5_checksum:           294d943087a1c7a6bbccffefd2329cd7\n",
      "computed md5.hexdigest: 294d943087a1c7a6bbccffefd2329cd7\n"
     ]
    }
   ],
   "source": [
    "import hashlib\n",
    "\n",
    "md5 = hashlib.md5()\n",
    "with open(\"dem.zip\", \"rb\") as fd:\n",
    "    for data in fd:\n",
    "        md5.update(data)\n",
    "\n",
    "assert md5.hexdigest() == md5_checksum\n",
    "print(\"md5_checksum:          \", md5_checksum)\n",
    "print(\"computed md5.hexdigest:\", md5.hexdigest())"
   ]
  }
 ],
 "metadata": {
  "kernelspec": {
   "display_name": "p313",
   "language": "python",
   "name": "python3"
  },
  "language_info": {
   "codemirror_mode": {
    "name": "ipython",
    "version": 3
   },
   "file_extension": ".py",
   "mimetype": "text/x-python",
   "name": "python",
   "nbconvert_exporter": "python",
   "pygments_lexer": "ipython3",
   "version": "3.13.5"
  }
 },
 "nbformat": 4,
 "nbformat_minor": 5
}
