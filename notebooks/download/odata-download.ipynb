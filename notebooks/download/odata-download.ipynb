{
 "cells": [
  {
   "cell_type": "markdown",
   "id": "2bde64a6",
   "metadata": {},
   "source": [
    "## Data download\n",
    "\n",
    "See https://documentation.dataspace.copernicus.eu/APIs/OData.html#product-download"
   ]
  },
  {
   "cell_type": "code",
   "execution_count": 1,
   "id": "8645f11a",
   "metadata": {},
   "outputs": [],
   "source": [
    "import sys\n",
    "\n",
    "sys.path.append(\"../..\")"
   ]
  },
  {
   "cell_type": "markdown",
   "id": "5b5664a2",
   "metadata": {},
   "source": [
    "### Token"
   ]
  },
  {
   "cell_type": "code",
   "execution_count": 2,
   "id": "5e6092d5",
   "metadata": {},
   "outputs": [],
   "source": [
    "from cdseutils.cdseauth import CdseToken"
   ]
  },
  {
   "cell_type": "code",
   "execution_count": 3,
   "id": "788dd5b3",
   "metadata": {},
   "outputs": [],
   "source": [
    "token = CdseToken()"
   ]
  },
  {
   "cell_type": "code",
   "execution_count": 4,
   "id": "12004f70",
   "metadata": {},
   "outputs": [
    {
     "name": "stdout",
     "output_type": "stream",
     "text": [
      "current time:            2025-08-16T15:56:12.165921+00:00\n",
      "access_expiration_time:  2025-08-16T16:06:09.583648+00:00\n",
      "refresh_expiration_time: 2025-08-16T16:56:09.583648+00:00\n"
     ]
    }
   ],
   "source": [
    "import datetime\n",
    "\n",
    "now = datetime.datetime.now(tz=datetime.UTC).isoformat()\n",
    "\n",
    "print(\"current time:           \", now)\n",
    "print(\"access_expiration_time: \", token._access_expiration_time.isoformat())\n",
    "print(\"refresh_expiration_time:\", token._refresh_expiration_time.isoformat())"
   ]
  },
  {
   "cell_type": "markdown",
   "id": "4b8edad8",
   "metadata": {},
   "source": [
    "### Constants"
   ]
  },
  {
   "cell_type": "code",
   "execution_count": 5,
   "id": "3a45988f",
   "metadata": {},
   "outputs": [],
   "source": [
    "url = \"https://catalogue.dataspace.copernicus.eu/odata/v1/Products(b2a2ed2b-7a3c-4bac-bbe3-4223704cae15)/$value\"\n",
    "md5_checksum = \"294d943087a1c7a6bbccffefd2329cd7\""
   ]
  },
  {
   "cell_type": "markdown",
   "id": "914ef0bd",
   "metadata": {},
   "source": [
    "### Client"
   ]
  },
  {
   "cell_type": "code",
   "execution_count": 6,
   "id": "bd8fa223",
   "metadata": {},
   "outputs": [],
   "source": [
    "from cdseutils.clients import CdseODataClient"
   ]
  },
  {
   "cell_type": "code",
   "execution_count": 7,
   "id": "03bf728a",
   "metadata": {},
   "outputs": [],
   "source": [
    "client = CdseODataClient(token)"
   ]
  },
  {
   "cell_type": "code",
   "execution_count": 8,
   "id": "e4f8e1e4",
   "metadata": {},
   "outputs": [],
   "source": [
    "import pathlib\n",
    "\n",
    "for p in pathlib.Path(\".\").glob(\"*.zip\"):\n",
    "    p.unlink()"
   ]
  },
  {
   "cell_type": "code",
   "execution_count": 9,
   "id": "09640c53",
   "metadata": {},
   "outputs": [
    {
     "data": {
      "application/vnd.jupyter.widget-view+json": {
       "model_id": "57a891e5e6b64f1faf1339782c829787",
       "version_major": 2,
       "version_minor": 0
      },
      "text/plain": [
       "dem.zip:   0%|          | 0.00/12.7M [00:00<?, ?B/s]"
      ]
     },
     "metadata": {},
     "output_type": "display_data"
    }
   ],
   "source": [
    "outfile = \"dem.zip\"\n",
    "client.download(url, outfile)"
   ]
  },
  {
   "cell_type": "markdown",
   "id": "1517b3bd",
   "metadata": {},
   "source": [
    "Automatic determination of the output file name:\n",
    "\n",
    "DEM1_SAR_DGE_90_20110227T213349_20121120T214521_ADS_000000_3612_d850f16f.zip"
   ]
  },
  {
   "cell_type": "code",
   "execution_count": 10,
   "id": "940bd387",
   "metadata": {},
   "outputs": [
    {
     "data": {
      "application/vnd.jupyter.widget-view+json": {
       "model_id": "5399c10b1a9848c29f29893414e66e03",
       "version_major": 2,
       "version_minor": 0
      },
      "text/plain": [
       "DEM1_SAR_DGE_90_20110227T213349_20121120T214521_ADS_000000_3612_d850f16f.zip:   0%|          | 0.00/12.7M [00:…"
      ]
     },
     "metadata": {},
     "output_type": "display_data"
    }
   ],
   "source": [
    "client.download(url)"
   ]
  },
  {
   "cell_type": "markdown",
   "id": "2e5074ff",
   "metadata": {},
   "source": [
    "### Checksum computation"
   ]
  },
  {
   "cell_type": "code",
   "execution_count": 11,
   "id": "60480a9c",
   "metadata": {},
   "outputs": [
    {
     "name": "stdout",
     "output_type": "stream",
     "text": [
      "md5_checksum:           294d943087a1c7a6bbccffefd2329cd7\n",
      "computed md5.hexdigest: 294d943087a1c7a6bbccffefd2329cd7\n"
     ]
    }
   ],
   "source": [
    "import hashlib\n",
    "\n",
    "md5 = hashlib.md5()\n",
    "with open(\"dem.zip\", \"rb\") as fd:\n",
    "    for data in fd:\n",
    "        md5.update(data)\n",
    "\n",
    "assert md5.hexdigest() == md5_checksum\n",
    "print(\"md5_checksum:          \", md5_checksum)\n",
    "print(\"computed md5.hexdigest:\", md5.hexdigest())"
   ]
  }
 ],
 "metadata": {
  "kernelspec": {
   "display_name": "p313",
   "language": "python",
   "name": "python3"
  },
  "language_info": {
   "codemirror_mode": {
    "name": "ipython",
    "version": 3
   },
   "file_extension": ".py",
   "mimetype": "text/x-python",
   "name": "python",
   "nbconvert_exporter": "python",
   "pygments_lexer": "ipython3",
   "version": "3.13.5"
  }
 },
 "nbformat": 4,
 "nbformat_minor": 5
}
