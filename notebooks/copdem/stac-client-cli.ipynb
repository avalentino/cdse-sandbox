{
 "cells": [
  {
   "cell_type": "code",
   "execution_count": null,
   "id": "af0151fb",
   "metadata": {},
   "outputs": [],
   "source": [
    "import sys\n",
    "import json"
   ]
  },
  {
   "cell_type": "code",
   "execution_count": null,
   "id": "fa845af4",
   "metadata": {},
   "outputs": [],
   "source": [
    "sys.path.append(\"../..\")"
   ]
  },
  {
   "cell_type": "code",
   "execution_count": null,
   "id": "8ceb6c76",
   "metadata": {},
   "outputs": [],
   "source": [
    "from cdseutils.utils import BBox"
   ]
  },
  {
   "cell_type": "code",
   "execution_count": null,
   "id": "fc683b51",
   "metadata": {},
   "outputs": [],
   "source": [
    "endpoint_url = \"https://catalogue.dataspace.copernicus.eu/stac\""
   ]
  },
  {
   "cell_type": "code",
   "execution_count": null,
   "id": "66a0e0d7",
   "metadata": {},
   "outputs": [],
   "source": [
    "bbox = BBox(\n",
    "    left=16.50,\n",
    "    bottom=40.53,\n",
    "    right=16.85,\n",
    "    top=40.72,\n",
    ")\n",
    "bbox"
   ]
  },
  {
   "cell_type": "code",
   "execution_count": null,
   "id": "1d7e4abb",
   "metadata": {},
   "outputs": [],
   "source": [
    "# os.environ[\"ENDPOINT_URL\"] = endpoint_url\n",
    "# os.environ[\"BBOX\"] = \" \".join(map(str, bbox))"
   ]
  },
  {
   "cell_type": "code",
   "execution_count": null,
   "id": "f8820ea1",
   "metadata": {},
   "outputs": [],
   "source": [
    "%%bash --out collections_json\n",
    "stac-client collections https://catalogue.dataspace.copernicus.eu/stac"
   ]
  },
  {
   "cell_type": "code",
   "execution_count": null,
   "id": "2dfb4719",
   "metadata": {},
   "outputs": [],
   "source": [
    "collections = json.loads(collections_json)  # noqa: F821\n",
    "collections"
   ]
  },
  {
   "cell_type": "code",
   "execution_count": null,
   "id": "d194310d",
   "metadata": {},
   "outputs": [],
   "source": [
    "collection_names = [item[\"id\"] for item in collections]\n",
    "collection_names"
   ]
  },
  {
   "cell_type": "code",
   "execution_count": null,
   "id": "9f635cc8",
   "metadata": {},
   "outputs": [],
   "source": [
    "%%bash  --out items_json\n",
    "stac-client search https://catalogue.dataspace.copernicus.eu/stac -c COP-DEM --bbox 16.50 40.53 16.85 40.72"
   ]
  },
  {
   "cell_type": "code",
   "execution_count": null,
   "id": "815123df",
   "metadata": {},
   "outputs": [],
   "source": [
    "items = json.loads(items_json)  # noqa: F821\n",
    "items"
   ]
  },
  {
   "cell_type": "code",
   "execution_count": null,
   "id": "0113d284",
   "metadata": {},
   "outputs": [],
   "source": [
    "len(items[\"features\"])"
   ]
  },
  {
   "cell_type": "code",
   "execution_count": null,
   "id": "0e95e3c8",
   "metadata": {},
   "outputs": [],
   "source": [
    "tiles = [item[\"id\"] for item in items[\"features\"]]\n",
    "tiles"
   ]
  },
  {
   "cell_type": "code",
   "execution_count": null,
   "id": "923ca19b",
   "metadata": {},
   "outputs": [],
   "source": [
    "%%bash --out dged_90_json\n",
    "stac-client search https://catalogue.dataspace.copernicus.eu/stac -c COP-DEM --bbox 16.50 40.53 16.85 40.72 --filter '{\"op\": \"=\", \"args\": [{\"property\": \"productType\"}, \"DGE_90\"]}'"
   ]
  },
  {
   "cell_type": "code",
   "execution_count": null,
   "id": "de070b18",
   "metadata": {},
   "outputs": [],
   "source": [
    "dged_90_tiles = json.loads(dged_90_json)  # noqa: F821\n",
    "dged_90_tiles"
   ]
  },
  {
   "cell_type": "code",
   "execution_count": null,
   "id": "04560bed",
   "metadata": {},
   "outputs": [],
   "source": [
    "len(dged_90_tiles[\"features\"])"
   ]
  },
  {
   "cell_type": "code",
   "execution_count": null,
   "id": "96a12a26",
   "metadata": {},
   "outputs": [],
   "source": [
    "feature = dged_90_tiles[\"features\"][0]"
   ]
  },
  {
   "cell_type": "code",
   "execution_count": null,
   "id": "66785697",
   "metadata": {},
   "outputs": [],
   "source": [
    "feature[\"id\"]"
   ]
  },
  {
   "cell_type": "code",
   "execution_count": null,
   "id": "034b35ee",
   "metadata": {},
   "outputs": [],
   "source": [
    "feature[\"assets\"]"
   ]
  },
  {
   "cell_type": "code",
   "execution_count": null,
   "id": "8b70a0e0",
   "metadata": {},
   "outputs": [],
   "source": [
    "feature[\"assets\"][\"PRODUCT\"]"
   ]
  },
  {
   "cell_type": "code",
   "execution_count": null,
   "id": "871f8263",
   "metadata": {},
   "outputs": [],
   "source": [
    "feature[\"assets\"][\"PRODUCT\"][\"alternate\"][\"s3\"]"
   ]
  },
  {
   "cell_type": "code",
   "execution_count": null,
   "id": "25786247",
   "metadata": {},
   "outputs": [],
   "source": [
    "%%bash\n",
    "s3cmd -c ~/.s3cfg ls -r s3://eodata/auxdata/CopDEM/COP-DEM_GLO-90-DGED/DEM1_SAR_DGE_90_20110415T164917_20140317T164937_ADS_000000_1700.DEM"
   ]
  }
 ],
 "metadata": {
  "kernelspec": {
   "display_name": "p313",
   "language": "python",
   "name": "python3"
  },
  "language_info": {
   "codemirror_mode": {
    "name": "ipython",
    "version": 3
   },
   "file_extension": ".py",
   "mimetype": "text/x-python",
   "name": "python",
   "nbconvert_exporter": "python",
   "pygments_lexer": "ipython3",
   "version": "3.13.5"
  }
 },
 "nbformat": 4,
 "nbformat_minor": 5
}
