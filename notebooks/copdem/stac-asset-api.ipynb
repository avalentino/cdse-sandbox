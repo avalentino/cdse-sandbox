{
 "cells": [
  {
   "cell_type": "code",
   "execution_count": null,
   "id": "ef687594",
   "metadata": {},
   "outputs": [],
   "source": [
    "import sys\n",
    "import stac_asset\n",
    "import pystac_client"
   ]
  },
  {
   "cell_type": "code",
   "execution_count": null,
   "id": "6a0f4773",
   "metadata": {},
   "outputs": [],
   "source": [
    "sys.path.append(\"../..\")"
   ]
  },
  {
   "cell_type": "code",
   "execution_count": null,
   "id": "662056e9",
   "metadata": {},
   "outputs": [],
   "source": [
    "from cdseutils.utils import BBox"
   ]
  },
  {
   "cell_type": "code",
   "execution_count": null,
   "id": "613abf9e",
   "metadata": {},
   "outputs": [],
   "source": [
    "endpoint_url = \"https://catalogue.dataspace.copernicus.eu/stac\""
   ]
  },
  {
   "cell_type": "code",
   "execution_count": null,
   "id": "f8ec1f95",
   "metadata": {},
   "outputs": [],
   "source": [
    "collection = \"COP-DEM\""
   ]
  },
  {
   "cell_type": "code",
   "execution_count": null,
   "id": "762755df",
   "metadata": {},
   "outputs": [],
   "source": [
    "bbox = BBox(\n",
    "    left=16.50,\n",
    "    bottom=40.53,\n",
    "    right=16.85,\n",
    "    top=40.72,\n",
    ")\n",
    "bbox"
   ]
  },
  {
   "cell_type": "code",
   "execution_count": null,
   "id": "c832db8d",
   "metadata": {},
   "outputs": [],
   "source": [
    "client = pystac_client.Client.open(endpoint_url)\n",
    "client.add_conforms_to(\"FILTER\")"
   ]
  },
  {
   "cell_type": "code",
   "execution_count": null,
   "id": "cb990658",
   "metadata": {},
   "outputs": [],
   "source": [
    "filter = {  # noqa: A001\n",
    "    \"op\": \"=\",\n",
    "    \"args\": [\n",
    "        {\"property\": \"productType\"},\n",
    "        \"DGE_90\",\n",
    "    ],\n",
    "}"
   ]
  },
  {
   "cell_type": "code",
   "execution_count": null,
   "id": "d32563d4",
   "metadata": {},
   "outputs": [],
   "source": [
    "dged_search = client.search(\n",
    "    collections=[collection],\n",
    "    filter=filter,\n",
    "    bbox=bbox,\n",
    "    # max_items=10,\n",
    ")"
   ]
  },
  {
   "cell_type": "code",
   "execution_count": null,
   "id": "2be6bed3",
   "metadata": {},
   "outputs": [],
   "source": [
    "items = list(dged_search.items())"
   ]
  },
  {
   "cell_type": "code",
   "execution_count": null,
   "id": "3b857fdc",
   "metadata": {},
   "outputs": [],
   "source": [
    "item = items[0].full_copy()"
   ]
  },
  {
   "cell_type": "code",
   "execution_count": null,
   "id": "d935652e",
   "metadata": {},
   "outputs": [],
   "source": [
    "config = stac_asset.config.Config(\n",
    "    file_name_strategy=stac_asset.strategy.FileNameStrategy.KEY,\n",
    "    exclude={\"QUICKLOOK\"},\n",
    ")\n",
    "await stac_asset.download_item(item, directory=\"DEM\", config=config)"
   ]
  }
 ],
 "metadata": {
  "kernelspec": {
   "display_name": "venv",
   "language": "python",
   "name": "python3"
  },
  "language_info": {
   "codemirror_mode": {
    "name": "ipython",
    "version": 3
   },
   "file_extension": ".py",
   "mimetype": "text/x-python",
   "name": "python",
   "nbconvert_exporter": "python",
   "pygments_lexer": "ipython3",
   "version": "3.13.3"
  }
 },
 "nbformat": 4,
 "nbformat_minor": 5
}
