{
 "cells": [
  {
   "cell_type": "markdown",
   "id": "2bde64a6",
   "metadata": {},
   "source": [
    "## Data download\n",
    "\n",
    "See https://documentation.dataspace.copernicus.eu/APIs/OData.html#product-download"
   ]
  },
  {
   "cell_type": "code",
   "execution_count": 1,
   "id": "1bd6b8dd",
   "metadata": {},
   "outputs": [],
   "source": [
    "%load_ext autoreload\n",
    "%autoreload 2"
   ]
  },
  {
   "cell_type": "code",
   "execution_count": 2,
   "id": "8645f11a",
   "metadata": {},
   "outputs": [],
   "source": [
    "import sys\n",
    "\n",
    "sys.path.append(\"../..\")"
   ]
  },
  {
   "cell_type": "markdown",
   "id": "5b5664a2",
   "metadata": {},
   "source": [
    "## Token"
   ]
  },
  {
   "cell_type": "code",
   "execution_count": 3,
   "id": "5e6092d5",
   "metadata": {},
   "outputs": [],
   "source": [
    "from cdseutils.cdseauth import CdseToken"
   ]
  },
  {
   "cell_type": "code",
   "execution_count": 4,
   "id": "788dd5b3",
   "metadata": {},
   "outputs": [],
   "source": [
    "token = CdseToken()"
   ]
  },
  {
   "cell_type": "code",
   "execution_count": 5,
   "id": "12004f70",
   "metadata": {},
   "outputs": [
    {
     "name": "stdout",
     "output_type": "stream",
     "text": [
      "current time:            2025-08-11T17:53:02.426150+00:00\n",
      "access_expiration_time:  2025-08-11T18:03:00.128394+00:00\n",
      "refresh_expiration_time: 2025-08-11T18:53:00.128394+00:00\n"
     ]
    }
   ],
   "source": [
    "import datetime\n",
    "\n",
    "now = datetime.datetime.now(tz=datetime.UTC).isoformat()\n",
    "\n",
    "print(\"current time:           \", now)\n",
    "print(\"access_expiration_time: \", token._access_expiration_time.isoformat())\n",
    "print(\"refresh_expiration_time:\", token._refresh_expiration_time.isoformat())"
   ]
  },
  {
   "cell_type": "markdown",
   "id": "4b8edad8",
   "metadata": {},
   "source": [
    "## URLs"
   ]
  },
  {
   "cell_type": "code",
   "execution_count": 6,
   "id": "3a45988f",
   "metadata": {},
   "outputs": [],
   "source": [
    "url = \"https://catalogue.dataspace.copernicus.eu/odata/v1/Products(f404306f-a8b3-5164-8a90-991484c9588c)/$value\""
   ]
  },
  {
   "cell_type": "markdown",
   "id": "914ef0bd",
   "metadata": {},
   "source": [
    "## Client"
   ]
  },
  {
   "cell_type": "code",
   "execution_count": 7,
   "id": "bd8fa223",
   "metadata": {},
   "outputs": [],
   "source": [
    "from cdseutils.clients import CdseODataClient"
   ]
  },
  {
   "cell_type": "code",
   "execution_count": 8,
   "id": "03bf728a",
   "metadata": {},
   "outputs": [],
   "source": [
    "client = CdseODataClient(token)"
   ]
  },
  {
   "cell_type": "code",
   "execution_count": 9,
   "id": "e4f8e1e4",
   "metadata": {},
   "outputs": [],
   "source": [
    "import pathlib\n",
    "\n",
    "for p in pathlib.Path(\".\").glob(\"*.zip\"):\n",
    "    p.unlink()"
   ]
  },
  {
   "cell_type": "code",
   "execution_count": 10,
   "id": "09640c53",
   "metadata": {},
   "outputs": [
    {
     "data": {
      "application/vnd.jupyter.widget-view+json": {
       "model_id": "5c55575661324e9e9bc987c37b490083",
       "version_major": 2,
       "version_minor": 0
      },
      "text/plain": [
       "dem.zip:   0%|          | 0.00/12.7M [00:00<?, ?B/s]"
      ]
     },
     "metadata": {},
     "output_type": "display_data"
    }
   ],
   "source": [
    "outfile = \"dem.zip\"\n",
    "client.download(url, outfile)"
   ]
  },
  {
   "cell_type": "markdown",
   "id": "1517b3bd",
   "metadata": {},
   "source": [
    "Automatic determination of the output file name:\n",
    "\n",
    "DEM1_SAR_DGE_90_20110415T164917_20140317T164937_ADS_000000_1700.DEM.zip"
   ]
  },
  {
   "cell_type": "code",
   "execution_count": 11,
   "id": "940bd387",
   "metadata": {},
   "outputs": [
    {
     "data": {
      "application/vnd.jupyter.widget-view+json": {
       "model_id": "459af2ccb8474d8b99ee358812ff300e",
       "version_major": 2,
       "version_minor": 0
      },
      "text/plain": [
       "DEM1_SAR_DGE_90_20110415T164917_20140317T164937_ADS_000000_1700.DEM.zip:   0%|          | 0.00/12.7M [00:00<?,…"
      ]
     },
     "metadata": {},
     "output_type": "display_data"
    }
   ],
   "source": [
    "client.download(url)"
   ]
  }
 ],
 "metadata": {
  "kernelspec": {
   "display_name": "p313",
   "language": "python",
   "name": "python3"
  },
  "language_info": {
   "codemirror_mode": {
    "name": "ipython",
    "version": 3
   },
   "file_extension": ".py",
   "mimetype": "text/x-python",
   "name": "python",
   "nbconvert_exporter": "python",
   "pygments_lexer": "ipython3",
   "version": "3.13.5"
  }
 },
 "nbformat": 4,
 "nbformat_minor": 5
}
