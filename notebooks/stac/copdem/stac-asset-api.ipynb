{
 "cells": [
  {
   "cell_type": "code",
   "execution_count": 1,
   "id": "ef687594",
   "metadata": {},
   "outputs": [],
   "source": [
    "import sys\n",
    "import stac_asset\n",
    "import pystac_client"
   ]
  },
  {
   "cell_type": "code",
   "execution_count": null,
   "id": "6a0f4773",
   "metadata": {},
   "outputs": [],
   "source": [
    "sys.path.append(\"../../..\")"
   ]
  },
  {
   "cell_type": "code",
   "execution_count": 3,
   "id": "662056e9",
   "metadata": {},
   "outputs": [],
   "source": [
    "from cdseutils.utils import BBox"
   ]
  },
  {
   "cell_type": "code",
   "execution_count": 4,
   "id": "613abf9e",
   "metadata": {},
   "outputs": [],
   "source": [
    "endpoint_url = \"https://catalogue.dataspace.copernicus.eu/stac\""
   ]
  },
  {
   "cell_type": "code",
   "execution_count": 5,
   "id": "f8ec1f95",
   "metadata": {},
   "outputs": [],
   "source": [
    "collection = \"COP-DEM\""
   ]
  },
  {
   "cell_type": "code",
   "execution_count": 6,
   "id": "762755df",
   "metadata": {},
   "outputs": [
    {
     "data": {
      "text/plain": [
       "BBox(left=16.5, south=40.53, right=16.85, north=40.72)"
      ]
     },
     "execution_count": 6,
     "metadata": {},
     "output_type": "execute_result"
    }
   ],
   "source": [
    "bbox = BBox(\n",
    "    left=16.50,\n",
    "    south=40.53,\n",
    "    right=16.85,\n",
    "    north=40.72,\n",
    ")\n",
    "bbox"
   ]
  },
  {
   "cell_type": "code",
   "execution_count": 7,
   "id": "c832db8d",
   "metadata": {},
   "outputs": [],
   "source": [
    "client = pystac_client.Client.open(endpoint_url)\n",
    "client.add_conforms_to(\"FILTER\")"
   ]
  },
  {
   "cell_type": "code",
   "execution_count": 8,
   "id": "cb990658",
   "metadata": {},
   "outputs": [],
   "source": [
    "filter = {\n",
    "    \"op\": \"=\",\n",
    "    \"args\": [\n",
    "        {\"property\": \"productType\"},\n",
    "        \"DGE_90\",\n",
    "    ],\n",
    "}"
   ]
  },
  {
   "cell_type": "code",
   "execution_count": 9,
   "id": "d32563d4",
   "metadata": {},
   "outputs": [],
   "source": [
    "dged_search = client.search(\n",
    "    collections=[collection],\n",
    "    filter=filter,\n",
    "    bbox=bbox,\n",
    "    # max_items=10,\n",
    ")"
   ]
  },
  {
   "cell_type": "code",
   "execution_count": 10,
   "id": "2be6bed3",
   "metadata": {},
   "outputs": [],
   "source": [
    "items = list(dged_search.items())"
   ]
  },
  {
   "cell_type": "code",
   "execution_count": 11,
   "id": "3b857fdc",
   "metadata": {},
   "outputs": [],
   "source": [
    "item = items[0].full_copy()"
   ]
  },
  {
   "cell_type": "code",
   "execution_count": 12,
   "id": "d935652e",
   "metadata": {},
   "outputs": [
    {
     "ename": "DownloadError",
     "evalue": "ClientResponseError: 401, message='Unauthorized', url='https://download.dataspace.copernicus.eu/odata/v1/Products(f404306f-a8b3-5164-8a90-991484c9588c)/$value'",
     "output_type": "error",
     "traceback": [
      "\u001b[0;31m---------------------------------------------------------------------------\u001b[0m",
      "\u001b[0;31mDownloadError\u001b[0m                             Traceback (most recent call last)",
      "Cell \u001b[0;32mIn[12], line 5\u001b[0m\n\u001b[1;32m      1\u001b[0m config \u001b[38;5;241m=\u001b[39m stac_asset\u001b[38;5;241m.\u001b[39mconfig\u001b[38;5;241m.\u001b[39mConfig(\n\u001b[1;32m      2\u001b[0m     file_name_strategy\u001b[38;5;241m=\u001b[39mstac_asset\u001b[38;5;241m.\u001b[39mstrategy\u001b[38;5;241m.\u001b[39mFileNameStrategy\u001b[38;5;241m.\u001b[39mKEY,\n\u001b[1;32m      3\u001b[0m     exclude\u001b[38;5;241m=\u001b[39m{\u001b[38;5;124m\"\u001b[39m\u001b[38;5;124mQUICKLOOK\u001b[39m\u001b[38;5;124m\"\u001b[39m},\n\u001b[1;32m      4\u001b[0m )\n\u001b[0;32m----> 5\u001b[0m \u001b[38;5;28;01mawait\u001b[39;00m stac_asset\u001b[38;5;241m.\u001b[39mdownload_item(item, directory\u001b[38;5;241m=\u001b[39m\u001b[38;5;124m\"\u001b[39m\u001b[38;5;124mDEM\u001b[39m\u001b[38;5;124m\"\u001b[39m, config\u001b[38;5;241m=\u001b[39mconfig)\n",
      "File \u001b[0;32m~/projects/cdse-sandbox/venv/lib/python3.13/site-packages/stac_asset/_functions.py:254\u001b[0m, in \u001b[0;36mdownload_item\u001b[0;34m(item, directory, file_name, infer_file_name, config, messages, clients, keep_non_downloaded, max_concurrent_downloads, stream)\u001b[0m\n\u001b[1;32m    248\u001b[0m \u001b[38;5;28;01masync\u001b[39;00m \u001b[38;5;28;01mwith\u001b[39;00m Downloads(\n\u001b[1;32m    249\u001b[0m     config\u001b[38;5;241m=\u001b[39mconfig \u001b[38;5;129;01mor\u001b[39;00m Config(),\n\u001b[1;32m    250\u001b[0m     clients\u001b[38;5;241m=\u001b[39mclients,\n\u001b[1;32m    251\u001b[0m     max_concurrent_downloads\u001b[38;5;241m=\u001b[39mmax_concurrent_downloads,\n\u001b[1;32m    252\u001b[0m ) \u001b[38;5;28;01mas\u001b[39;00m downloads:\n\u001b[1;32m    253\u001b[0m     \u001b[38;5;28;01mawait\u001b[39;00m downloads\u001b[38;5;241m.\u001b[39madd(item, Path(directory), file_name, keep_non_downloaded)\n\u001b[0;32m--> 254\u001b[0m     \u001b[38;5;28;01mawait\u001b[39;00m downloads\u001b[38;5;241m.\u001b[39mdownload(messages, stream)\n\u001b[1;32m    256\u001b[0m self_href \u001b[38;5;241m=\u001b[39m item\u001b[38;5;241m.\u001b[39mget_self_href()\n\u001b[1;32m    257\u001b[0m \u001b[38;5;28;01mif\u001b[39;00m self_href:\n",
      "File \u001b[0;32m~/projects/cdse-sandbox/venv/lib/python3.13/site-packages/stac_asset/_functions.py:173\u001b[0m, in \u001b[0;36mDownloads.download\u001b[0;34m(self, messages, stream)\u001b[0m\n\u001b[1;32m    171\u001b[0m             exceptions\u001b[38;5;241m.\u001b[39mappend(result\u001b[38;5;241m.\u001b[39merror)\n\u001b[1;32m    172\u001b[0m \u001b[38;5;28;01mif\u001b[39;00m exceptions:\n\u001b[0;32m--> 173\u001b[0m     \u001b[38;5;28;01mraise\u001b[39;00m DownloadError(exceptions)\n",
      "\u001b[0;31mDownloadError\u001b[0m: ClientResponseError: 401, message='Unauthorized', url='https://download.dataspace.copernicus.eu/odata/v1/Products(f404306f-a8b3-5164-8a90-991484c9588c)/$value'"
     ]
    }
   ],
   "source": [
    "config = stac_asset.config.Config(\n",
    "    file_name_strategy=stac_asset.strategy.FileNameStrategy.KEY,\n",
    "    exclude={\"QUICKLOOK\"},\n",
    ")\n",
    "await stac_asset.download_item(item, directory=\"DEM\", config=config)"
   ]
  }
 ],
 "metadata": {
  "kernelspec": {
   "display_name": "venv",
   "language": "python",
   "name": "python3"
  },
  "language_info": {
   "codemirror_mode": {
    "name": "ipython",
    "version": 3
   },
   "file_extension": ".py",
   "mimetype": "text/x-python",
   "name": "python",
   "nbconvert_exporter": "python",
   "pygments_lexer": "ipython3",
   "version": "3.13.3"
  }
 },
 "nbformat": 4,
 "nbformat_minor": 5
}
